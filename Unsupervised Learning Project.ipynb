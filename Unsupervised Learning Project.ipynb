{
 "cells": [
  {
   "cell_type": "markdown",
   "metadata": {},
   "source": [
    "# Document Clustering and Topic Modeling"
   ]
  },
  {
   "cell_type": "raw",
   "metadata": {},
   "source": [
    "In this project, I use unsupervised learning models to cluster unlabeled documents into different groups, visualize the results，identify their latent topics/structures and sentiment analysis. Moreover, I compared the difference between k-means and LDA, in terms of rating and sentiment analysis"
   ]
  },
  {
   "cell_type": "markdown",
   "metadata": {},
   "source": [
    "## Contents"
   ]
  },
  {
   "cell_type": "markdown",
   "metadata": {},
   "source": [
    "<ul>\n",
    "<li>[Part 0: Translate Reviews](#Part-0:-Translate-Reviews)\n",
    "<li>[Part 1: Load Data](#Part-1:-Load-Data)\n",
    "<li>[Part 2: Tokenizing and Stemming](#Part-2:-Tokenizing-and-Stemming)\n",
    "<li>[Part 3: TF-IDF](#Part-3:-TF-IDF)\n",
    "<li>[Part 4: K-means clustering](#Part-4:-K-means-clustering)\n",
    "<li>[Part 5: Topic Modeling - Latent Dirichlet Allocation](#Part-5:-Topic-Modeling---Latent-Dirichlet-Allocation)\n",
    "<li>[Part 6: Sentiment Analysis](#Part-6:-Sentiment-Analysis)\n",
    "<li>[Part 7: Comparison K-means and LDA](#Part-7:-Comparison-K-Means-and-LDA)\n",
    "</ul>"
   ]
  },
  {
   "cell_type": "markdown",
   "metadata": {},
   "source": [
    "# Part 0: Translate Reviews"
   ]
  },
  {
   "cell_type": "code",
   "execution_count": null,
   "metadata": {},
   "outputs": [],
   "source": [
    "from google.cloud import translate\n",
    "import os\n",
    "import csv\n",
    "import time\n",
    "import pandas as pd\n",
    "\n",
    "#setup\n",
    "os.environ[\"GOOGLE_APPLICATION_CREDENTIALS\"]=\"C:/Users/yebod/Downloads/My Project 61912-be63adc2c36e.json\"\n",
    "li_summary=[]\n",
    "li_review=[]\n",
    "\n",
    "def chunkIt(seq, num):\n",
    "    avg = len(seq) / float(num)\n",
    "    out = []\n",
    "    last = 0.0\n",
    "\n",
    "    while last < len(seq):\n",
    "        out.append(seq[int(last):int(last + avg)])\n",
    "        last += avg\n",
    "\n",
    "    return out\n",
    "\n",
    "\n",
    "def translate_text(text,target='en'):\n",
    "    print(\"text is\"+text)\n",
    "    li_original=chunkIt(text,len(text)/800)\n",
    "    output=\"\";\n",
    "    print (li_original)\n",
    "\n",
    "\n",
    "    for i in li_original:\n",
    "        translate_client = translate.Client()\n",
    "        print (\"i is\"+i)\n",
    "        result = translate_client.translate(i, target_language=target)\n",
    "        output=output+result['translatedText']\n",
    "        print (\"output is \"+ output)\n",
    "        time.sleep(3)\n",
    "    return output\n",
    "\n",
    "with open(\"review subsample.csv\",encoding=\"utf-8\") as csvinput:\n",
    "\n",
    "    reader = csv.reader(csvinput)\n",
    "    for row in reader:\n",
    "        summary_text=row[1]\n",
    "        li_summary.append(translate_text(summary_text))\n",
    "        if(row[2]==None):\n",
    "            li_review.append(\"\")\n",
    "        else:\n",
    "            review_text=row[2]\n",
    "            li_review.append(translate_text(review_text))\n",
    "        time.sleep(1)\n",
    "\n",
    "    df = pd.DataFrame(li_review, columns=[\"review\"])\n",
    "    df.to_csv('wonnai_review.csv',index=False)\n",
    "    df2=pd.DataFrame(li_summary,columns=[\"summary\"])\n",
    "    df2.to_csv('wongnai_summary.csv',index=False)"
   ]
  },
  {
   "cell_type": "markdown",
   "metadata": {},
   "source": [
    "# Part 1: Load Data"
   ]
  },
  {
   "cell_type": "code",
   "execution_count": 1,
   "metadata": {},
   "outputs": [],
   "source": [
    "import warnings\n",
    "warnings.filterwarnings('ignore')\n",
    "import numpy as np\n",
    "import pandas as pd\n",
    "import nltk\n",
    "import re\n",
    "import os\n",
    "\n",
    "from sklearn import decomposition\n",
    "from sklearn.feature_extraction.text import TfidfVectorizer\n",
    "import matplotlib.pyplot as plt\n",
    "import lda"
   ]
  },
  {
   "cell_type": "markdown",
   "metadata": {},
   "source": [
    "Read data from files. In summary, we have about 100 thousand user reviews"
   ]
  },
  {
   "cell_type": "code",
   "execution_count": 2,
   "metadata": {},
   "outputs": [],
   "source": [
    "userReviews=pd.read_csv('../data/translation.txt',sep= '\\t',error_bad_lines=False,header=None,usecols=[0,1,2],nrows=5000)\n",
    "#remove non ascii\n",
    "userReviews.replace({u'[^\\x00-\\x7F]+':' '}, regex=True, inplace=True)\n",
    "userReviews=userReviews.loc[userReviews[2]!=' ']\n",
    "userReviews= userReviews[userReviews[2].notnull()]\n",
    "reviews=userReviews[2]\n"
   ]
  },
  {
   "cell_type": "code",
   "execution_count": 3,
   "metadata": {},
   "outputs": [
    {
     "data": {
      "text/plain": [
       "0     Delicious everything But not spicy. I do not k...\n",
       "1     Dumplings mixed to a bit. Overall taste satisf...\n",
       "2     I will eat many then. The taste is fresh but t...\n",
       "3     Fly to Hat Yai. If you miss the scene of the S...\n",
       "4     Shabu here are 2 prices, the price of the shop...\n",
       "5     Bear hug cafe &#39;on the left hand. Chiang Ma...\n",
       "6     Spacious I do not know what to do. Medium oatm...\n",
       "7     Sushi is a very good word, the price is very g...\n",
       "8     Have a nice Tea Break at &quot;P eony&quot; to...\n",
       "10    I have to eat the first time on Saturday, beca...\n",
       "Name: 2, dtype: object"
      ]
     },
     "execution_count": 3,
     "metadata": {},
     "output_type": "execute_result"
    }
   ],
   "source": [
    "reviews[:10]"
   ]
  },
  {
   "cell_type": "code",
   "execution_count": 4,
   "metadata": {},
   "outputs": [
    {
     "data": {
      "text/plain": [
       "'\\nasciiReviews=[]\\nfor line in reviews:\\n    line=str(line).strip().decode(\"ascii\",\"ignore\").encode(\"ascii\")\\n    if line==\"\":continue\\n    asciiReviews.append(line)\\nasciiReviews[0:5]\\n\\n\\n'"
      ]
     },
     "execution_count": 4,
     "metadata": {},
     "output_type": "execute_result"
    }
   ],
   "source": [
    "#remove Non Ascii\n",
    "\n",
    "'''\n",
    "asciiReviews=[]\n",
    "for line in reviews:\n",
    "    line=str(line).strip().decode(\"ascii\",\"ignore\").encode(\"ascii\")\n",
    "    if line==\"\":continue\n",
    "    asciiReviews.append(line)\n",
    "asciiReviews[0:5]\n",
    "\n",
    "\n",
    "'''\n",
    "\n",
    "        "
   ]
  },
  {
   "cell_type": "markdown",
   "metadata": {},
   "source": [
    "# Part 2: Tokenizing and Stemming"
   ]
  },
  {
   "cell_type": "markdown",
   "metadata": {
    "collapsed": true
   },
   "source": [
    "Load stopwords and stemmer function from NLTK library.\n",
    "Stop words are words like \"a\", \"the\", or \"in\" which don't convey significant meaning.\n",
    "Stemming is the process of breaking a word down into its root."
   ]
  },
  {
   "cell_type": "code",
   "execution_count": 5,
   "metadata": {},
   "outputs": [
    {
     "name": "stdout",
     "output_type": "stream",
     "text": [
      "We use 179 stop-words from nltk library.\n",
      "[u'i', u'me', u'my', u'myself', u'we', u'our', u'ours', u'ourselves', u'you', u\"you're\"]\n"
     ]
    }
   ],
   "source": [
    "# Use nltk's English stopwords.\n",
    "stopwords = nltk.corpus.stopwords.words('english')\n",
    "\n",
    "print \"We use \" + str(len(stopwords)) + \" stop-words from nltk library.\"\n",
    "print stopwords[:10]"
   ]
  },
  {
   "cell_type": "code",
   "execution_count": 6,
   "metadata": {},
   "outputs": [],
   "source": [
    "from nltk.stem.snowball import SnowballStemmer\n",
    "stemmer = SnowballStemmer(\"english\")\n",
    "\n",
    "def tokenization_and_stemming(text):\n",
    "    tokens = [word.lower() for sent in nltk.sent_tokenize(text) for word in nltk.word_tokenize(sent) if word not in stopwords]\n",
    "#     tokens=[]\n",
    "#     for sent in nltk.sent_tokenize(text):\n",
    "#         for word in nltk.word_tokenize(sent):\n",
    "#             if word not in stopwords:\n",
    "#                 tokens.append(word);    \n",
    "    filtered_tokens = []\n",
    "    # filter out any tokens not containing letters (e.g., numeric tokens, raw punctuation)\n",
    "\n",
    "    for token in tokens:\n",
    "        if re.search('[a-zA-Z]', token) and '&' not in token and len(token)>1:\n",
    "            filtered_tokens.append(token)\n",
    "    stems = [stemmer.stem(t) for t in filtered_tokens]\n",
    "    return stems\n",
    "\n",
    "def tokenization(text):\n",
    "    tokens = [word.lower() for sent in nltk.sent_tokenize(text) for word in nltk.word_tokenize(sent) if word not in stopwords]\n",
    "    filtered_tokens = []\n",
    "    for token in tokens:\n",
    "        #word should be composed by alphabets, no use '&', and everything is Ascii.\n",
    "        if re.search('[a-zA-Z]', token) and '&' not in token and len(token)>1:\n",
    "            filtered_tokens.append(token)\n",
    "    return filtered_tokens"
   ]
  },
  {
   "cell_type": "code",
   "execution_count": 7,
   "metadata": {},
   "outputs": [
    {
     "data": {
      "text/plain": [
       "[u'look', u'father', \"'s\", u'arm']"
      ]
     },
     "execution_count": 7,
     "metadata": {},
     "output_type": "execute_result"
    }
   ],
   "source": [
    "tokenization_and_stemming(\"she looked at her father's arm.\")"
   ]
  },
  {
   "cell_type": "markdown",
   "metadata": {},
   "source": [
    "Use our defined functions to analyze (i.e. tokenize, stem) our synoposes."
   ]
  },
  {
   "cell_type": "code",
   "execution_count": 8,
   "metadata": {},
   "outputs": [],
   "source": [
    "docs_stemmed = []\n",
    "docs_tokenized = []\n",
    "for i in reviews:\n",
    "    try:\n",
    "        tokenized_and_stemmed_results = tokenization_and_stemming(i)\n",
    "        docs_stemmed.extend(tokenized_and_stemmed_results)\n",
    "\n",
    "        tokenized_results = tokenization(i)\n",
    "        docs_tokenized.extend(tokenized_results)\n",
    "    except:\n",
    "        print i"
   ]
  },
  {
   "cell_type": "code",
   "execution_count": 9,
   "metadata": {},
   "outputs": [
    {
     "data": {
      "text/plain": [
       "['delicious',\n",
       " 'everything',\n",
       " 'but',\n",
       " 'spicy',\n",
       " 'know',\n",
       " 'dumplings',\n",
       " 'mixed',\n",
       " 'bit',\n",
       " 'overall',\n",
       " 'taste']"
      ]
     },
     "execution_count": 9,
     "metadata": {},
     "output_type": "execute_result"
    }
   ],
   "source": [
    "docs_tokenized[:10]"
   ]
  },
  {
   "cell_type": "code",
   "execution_count": 10,
   "metadata": {
    "scrolled": true
   },
   "outputs": [
    {
     "data": {
      "text/plain": [
       "[u'delici',\n",
       " u'everyth',\n",
       " u'but',\n",
       " u'spici',\n",
       " u'know',\n",
       " u'dumpl',\n",
       " u'mix',\n",
       " u'bit',\n",
       " u'overal',\n",
       " u'tast']"
      ]
     },
     "execution_count": 10,
     "metadata": {},
     "output_type": "execute_result"
    }
   ],
   "source": [
    "docs_stemmed[:10]"
   ]
  },
  {
   "cell_type": "markdown",
   "metadata": {},
   "source": [
    "Create a mapping from stemmed words to original tokenized words for result interpretation."
   ]
  },
  {
   "cell_type": "code",
   "execution_count": 11,
   "metadata": {},
   "outputs": [
    {
     "name": "stdout",
     "output_type": "stream",
     "text": [
      "delicious\n"
     ]
    }
   ],
   "source": [
    "vocab_frame_dict = {docs_stemmed[x]:docs_tokenized[x] for x in range(len(docs_stemmed))}\n",
    "print vocab_frame_dict['delici']"
   ]
  },
  {
   "cell_type": "markdown",
   "metadata": {
    "collapsed": true
   },
   "source": [
    "# Part 3: TF-IDF"
   ]
  },
  {
   "cell_type": "code",
   "execution_count": 12,
   "metadata": {},
   "outputs": [
    {
     "name": "stdout",
     "output_type": "stream",
     "text": [
      "In total, there are 3781 summaries and 44 terms.\n"
     ]
    }
   ],
   "source": [
    "#define vectorizer parameters\n",
    "tfidf_model = TfidfVectorizer(max_df=0.8, max_features=200000,\n",
    "                                 min_df=0.1, stop_words='english',\n",
    "                                 use_idf=True, tokenizer=tokenization_and_stemming, ngram_range=(1,1))\n",
    "\n",
    "tfidf_matrix = tfidf_model.fit_transform(reviews) #fit the vectorizer to synopses\n",
    "\n",
    "print \"In total, there are \" + str(tfidf_matrix.shape[0]) + \\\n",
    "      \" summaries and \" + str(tfidf_matrix.shape[1]) + \" terms.\""
   ]
  },
  {
   "cell_type": "code",
   "execution_count": 13,
   "metadata": {},
   "outputs": [
    {
     "data": {
      "text/plain": [
       "<1x44 sparse matrix of type '<type 'numpy.float64'>'\n",
       "\twith 2 stored elements in Compressed Sparse Row format>"
      ]
     },
     "execution_count": 13,
     "metadata": {},
     "output_type": "execute_result"
    }
   ],
   "source": [
    "tfidf_matrix[0]"
   ]
  },
  {
   "cell_type": "code",
   "execution_count": 14,
   "metadata": {},
   "outputs": [
    {
     "data": {
      "text/plain": [
       "{'analyzer': u'word',\n",
       " 'binary': False,\n",
       " 'decode_error': u'strict',\n",
       " 'dtype': numpy.int64,\n",
       " 'encoding': u'utf-8',\n",
       " 'input': u'content',\n",
       " 'lowercase': True,\n",
       " 'max_df': 0.8,\n",
       " 'max_features': 200000,\n",
       " 'min_df': 0.1,\n",
       " 'ngram_range': (1, 1),\n",
       " 'norm': u'l2',\n",
       " 'preprocessor': None,\n",
       " 'smooth_idf': True,\n",
       " 'stop_words': 'english',\n",
       " 'strip_accents': None,\n",
       " 'sublinear_tf': False,\n",
       " 'token_pattern': u'(?u)\\\\b\\\\w\\\\w+\\\\b',\n",
       " 'tokenizer': <function __main__.tokenization_and_stemming>,\n",
       " 'use_idf': True,\n",
       " 'vocabulary': None}"
      ]
     },
     "execution_count": 14,
     "metadata": {},
     "output_type": "execute_result"
    }
   ],
   "source": [
    "tfidf_model.get_params()"
   ]
  },
  {
   "cell_type": "markdown",
   "metadata": {},
   "source": [
    "Save the terms identified by TF-IDF."
   ]
  },
  {
   "cell_type": "code",
   "execution_count": 15,
   "metadata": {},
   "outputs": [],
   "source": [
    "tf_selected_words = tfidf_model.get_feature_names()"
   ]
  },
  {
   "cell_type": "markdown",
   "metadata": {},
   "source": [
    "# (Optional) Calculate Document Similarity"
   ]
  },
  {
   "cell_type": "code",
   "execution_count": 16,
   "metadata": {
    "scrolled": true
   },
   "outputs": [
    {
     "name": "stdout",
     "output_type": "stream",
     "text": [
      "[[1.         0.         0.         ... 0.07796803 0.         0.        ]\n",
      " [0.         1.         0.25688446 ... 0.09673227 0.         0.20549529]\n",
      " [0.         0.25688446 1.         ... 0.39454827 0.         0.09457301]\n",
      " ...\n",
      " [0.07796803 0.09673227 0.39454827 ... 1.         0.         0.17107341]\n",
      " [0.         0.         0.         ... 0.         0.         0.        ]\n",
      " [0.         0.20549529 0.09457301 ... 0.17107341 0.         1.        ]]\n"
     ]
    }
   ],
   "source": [
    "from sklearn.metrics.pairwise import cosine_similarity\n",
    "cos_matrix = cosine_similarity(tfidf_matrix)\n",
    "print cos_matrix"
   ]
  },
  {
   "cell_type": "code",
   "execution_count": 17,
   "metadata": {},
   "outputs": [
    {
     "data": {
      "text/plain": [
       "array([[1.        , 0.        , 0.        , ..., 0.07796803, 0.        ,\n",
       "        0.        ],\n",
       "       [0.        , 1.        , 0.25688446, ..., 0.09673227, 0.        ,\n",
       "        0.20549529],\n",
       "       [0.        , 0.25688446, 1.        , ..., 0.39454827, 0.        ,\n",
       "        0.09457301],\n",
       "       ...,\n",
       "       [0.07796803, 0.09673227, 0.39454827, ..., 1.        , 0.        ,\n",
       "        0.17107341],\n",
       "       [0.        , 0.        , 0.        , ..., 0.        , 0.        ,\n",
       "        0.        ],\n",
       "       [0.        , 0.20549529, 0.09457301, ..., 0.17107341, 0.        ,\n",
       "        1.        ]])"
      ]
     },
     "execution_count": 17,
     "metadata": {},
     "output_type": "execute_result"
    }
   ],
   "source": [
    "cos_matrix"
   ]
  },
  {
   "cell_type": "markdown",
   "metadata": {},
   "source": [
    "# Part 4: K-means clustering"
   ]
  },
  {
   "cell_type": "code",
   "execution_count": 18,
   "metadata": {
    "scrolled": true
   },
   "outputs": [],
   "source": [
    "from sklearn.cluster import KMeans\n",
    "\n",
    "num_clusters = 5\n",
    "km = KMeans(n_clusters=num_clusters)\n",
    "km.fit(tfidf_matrix)\n",
    "clusters = km.labels_.tolist()"
   ]
  },
  {
   "cell_type": "code",
   "execution_count": 19,
   "metadata": {},
   "outputs": [
    {
     "data": {
      "text/plain": [
       "[1, 0, 2, 3, 3, 2, 2, 4, 2, 3]"
      ]
     },
     "execution_count": 19,
     "metadata": {},
     "output_type": "execute_result"
    }
   ],
   "source": [
    "clusters[0:10]"
   ]
  },
  {
   "cell_type": "code",
   "execution_count": 20,
   "metadata": {},
   "outputs": [],
   "source": [
    "userReviews['K-Means']=clusters"
   ]
  },
  {
   "cell_type": "code",
   "execution_count": 21,
   "metadata": {},
   "outputs": [
    {
     "data": {
      "text/html": [
       "<div>\n",
       "<style scoped>\n",
       "    .dataframe tbody tr th:only-of-type {\n",
       "        vertical-align: middle;\n",
       "    }\n",
       "\n",
       "    .dataframe tbody tr th {\n",
       "        vertical-align: top;\n",
       "    }\n",
       "\n",
       "    .dataframe thead th {\n",
       "        text-align: right;\n",
       "    }\n",
       "</style>\n",
       "<table border=\"1\" class=\"dataframe\">\n",
       "  <thead>\n",
       "    <tr style=\"text-align: right;\">\n",
       "      <th></th>\n",
       "      <th>0</th>\n",
       "      <th>1</th>\n",
       "      <th>2</th>\n",
       "      <th>K-Means</th>\n",
       "    </tr>\n",
       "  </thead>\n",
       "  <tbody>\n",
       "    <tr>\n",
       "      <th>4989</th>\n",
       "      <td>164855</td>\n",
       "      <td>The food is delicious and sweet.</td>\n",
       "      <td>The restaurant is delicious food with fish and...</td>\n",
       "      <td>2</td>\n",
       "    </tr>\n",
       "    <tr>\n",
       "      <th>4990</th>\n",
       "      <td>164859</td>\n",
       "      <td>Not delicious</td>\n",
       "      <td>brownie is not good at all, but 20 baht is goo...</td>\n",
       "      <td>3</td>\n",
       "    </tr>\n",
       "    <tr>\n",
       "      <th>4991</th>\n",
       "      <td>164872</td>\n",
       "      <td>Atmosphere available wifi, but not impressed.</td>\n",
       "      <td>The atmosphere is available wifi, but the coff...</td>\n",
       "      <td>0</td>\n",
       "    </tr>\n",
       "    <tr>\n",
       "      <th>4992</th>\n",
       "      <td>164882</td>\n",
       "      <td># 1 of delicious tasting fire !!!!!</td>\n",
       "      <td>I&amp;#39;ve been eating a lot of food lately. I&amp;#...</td>\n",
       "      <td>0</td>\n",
       "    </tr>\n",
       "    <tr>\n",
       "      <th>4993</th>\n",
       "      <td>164891</td>\n",
       "      <td>The seafood sauce really cool.</td>\n",
       "      <td>Sea Food Seafood ... delicious flavor of the r...</td>\n",
       "      <td>3</td>\n",
       "    </tr>\n",
       "    <tr>\n",
       "      <th>4995</th>\n",
       "      <td>164906</td>\n",
       "      <td>Good atmosphere</td>\n",
       "      <td>Who likes the cozy waterfront? Have a good mea...</td>\n",
       "      <td>4</td>\n",
       "    </tr>\n",
       "    <tr>\n",
       "      <th>4996</th>\n",
       "      <td>164912</td>\n",
       "      <td>Delicious cake, soft tongue Good atmosphere</td>\n",
       "      <td>I like this cake, I like it very delicious cak...</td>\n",
       "      <td>2</td>\n",
       "    </tr>\n",
       "    <tr>\n",
       "      <th>4997</th>\n",
       "      <td>164913</td>\n",
       "      <td>Sausage, pork leg weissbier and yogurt</td>\n",
       "      <td>Bei Otto is a traditional German restaurant. A...</td>\n",
       "      <td>3</td>\n",
       "    </tr>\n",
       "    <tr>\n",
       "      <th>4998</th>\n",
       "      <td>164915</td>\n",
       "      <td>Delicious but very much in the daytime. It is ...</td>\n",
       "      <td>Roasted chicken baked eggs hot pan.</td>\n",
       "      <td>0</td>\n",
       "    </tr>\n",
       "    <tr>\n",
       "      <th>4999</th>\n",
       "      <td>164928</td>\n",
       "      <td>Fast service, delicious food full of words.</td>\n",
       "      <td>Today, there are 789 Baht per set, Sweetie Bul...</td>\n",
       "      <td>4</td>\n",
       "    </tr>\n",
       "  </tbody>\n",
       "</table>\n",
       "</div>"
      ],
      "text/plain": [
       "           0                                                  1  \\\n",
       "4989  164855                   The food is delicious and sweet.   \n",
       "4990  164859                                      Not delicious   \n",
       "4991  164872      Atmosphere available wifi, but not impressed.   \n",
       "4992  164882                # 1 of delicious tasting fire !!!!!   \n",
       "4993  164891                     The seafood sauce really cool.   \n",
       "4995  164906                                    Good atmosphere   \n",
       "4996  164912        Delicious cake, soft tongue Good atmosphere   \n",
       "4997  164913             Sausage, pork leg weissbier and yogurt   \n",
       "4998  164915  Delicious but very much in the daytime. It is ...   \n",
       "4999  164928        Fast service, delicious food full of words.   \n",
       "\n",
       "                                                      2  K-Means  \n",
       "4989  The restaurant is delicious food with fish and...        2  \n",
       "4990  brownie is not good at all, but 20 baht is goo...        3  \n",
       "4991  The atmosphere is available wifi, but the coff...        0  \n",
       "4992  I&#39;ve been eating a lot of food lately. I&#...        0  \n",
       "4993  Sea Food Seafood ... delicious flavor of the r...        3  \n",
       "4995  Who likes the cozy waterfront? Have a good mea...        4  \n",
       "4996  I like this cake, I like it very delicious cak...        2  \n",
       "4997  Bei Otto is a traditional German restaurant. A...        3  \n",
       "4998                Roasted chicken baked eggs hot pan.        0  \n",
       "4999  Today, there are 789 Baht per set, Sweetie Bul...        4  "
      ]
     },
     "execution_count": 21,
     "metadata": {},
     "output_type": "execute_result"
    }
   ],
   "source": [
    "userReviews[-10:]"
   ]
  },
  {
   "cell_type": "markdown",
   "metadata": {},
   "source": [
    "## 4.1. Analyze K-means Result"
   ]
  },
  {
   "cell_type": "code",
   "execution_count": 22,
   "metadata": {},
   "outputs": [],
   "source": [
    "# create DataFrame films from all of the input files.\n",
    "frame = pd.DataFrame(clusters , columns = ['cluster'])"
   ]
  },
  {
   "cell_type": "code",
   "execution_count": 23,
   "metadata": {},
   "outputs": [
    {
     "name": "stdout",
     "output_type": "stream",
     "text": [
      "Number of films included in each cluster:\n"
     ]
    },
    {
     "data": {
      "text/html": [
       "<div>\n",
       "<style scoped>\n",
       "    .dataframe tbody tr th:only-of-type {\n",
       "        vertical-align: middle;\n",
       "    }\n",
       "\n",
       "    .dataframe tbody tr th {\n",
       "        vertical-align: top;\n",
       "    }\n",
       "\n",
       "    .dataframe thead th {\n",
       "        text-align: right;\n",
       "    }\n",
       "</style>\n",
       "<table border=\"1\" class=\"dataframe\">\n",
       "  <thead>\n",
       "    <tr style=\"text-align: right;\">\n",
       "      <th></th>\n",
       "      <th>cluster</th>\n",
       "    </tr>\n",
       "  </thead>\n",
       "  <tbody>\n",
       "    <tr>\n",
       "      <th>3</th>\n",
       "      <td>1017</td>\n",
       "    </tr>\n",
       "    <tr>\n",
       "      <th>0</th>\n",
       "      <td>907</td>\n",
       "    </tr>\n",
       "    <tr>\n",
       "      <th>2</th>\n",
       "      <td>899</td>\n",
       "    </tr>\n",
       "    <tr>\n",
       "      <th>4</th>\n",
       "      <td>524</td>\n",
       "    </tr>\n",
       "    <tr>\n",
       "      <th>1</th>\n",
       "      <td>434</td>\n",
       "    </tr>\n",
       "  </tbody>\n",
       "</table>\n",
       "</div>"
      ],
      "text/plain": [
       "   cluster\n",
       "3     1017\n",
       "0      907\n",
       "2      899\n",
       "4      524\n",
       "1      434"
      ]
     },
     "execution_count": 23,
     "metadata": {},
     "output_type": "execute_result"
    }
   ],
   "source": [
    "print \"Number of films included in each cluster:\"\n",
    "frame['cluster'].value_counts().to_frame()"
   ]
  },
  {
   "cell_type": "code",
   "execution_count": 24,
   "metadata": {
    "scrolled": false
   },
   "outputs": [
    {
     "name": "stdout",
     "output_type": "stream",
     "text": [
      "<Document clustering result by K-means>\n",
      "Cluster 0 words: food, restaurant, price, taste, expensive, try,\n",
      "Cluster 1 words: delicious, food, eat, restaurant, taste, like,\n",
      "Cluster 2 words: shop, like, restaurant, eat, taste, delicious,\n",
      "Cluster 3 words: eat, pork, fried, delicious, sauce, rice,\n",
      "Cluster 4 words: good, atmosphere, food, taste, service, delicious,\n"
     ]
    }
   ],
   "source": [
    "print \"<Document clustering result by K-means>\"\n",
    "\n",
    "#km.cluster_centers_ denotes the importances of each items in centroid.\n",
    "#We need to sort it in decreasing-order and get the top k items.\n",
    "order_centroids = km.cluster_centers_.argsort()[:, ::-1] \n",
    "\n",
    "Cluster_keywords_summary = {}\n",
    "for i in range(num_clusters):\n",
    "    print \"Cluster \" + str(i) + \" words:\" ,\n",
    "    Cluster_keywords_summary[i] = []\n",
    "    for ind in order_centroids[i, :6]: #replace 6 with n words per cluster\n",
    "        Cluster_keywords_summary[i].append(vocab_frame_dict[tf_selected_words[ind]])\n",
    "        print vocab_frame_dict[tf_selected_words[ind]] + \",\",\n",
    "    print\n",
    "    \n",
    "    \n",
    "    "
   ]
  },
  {
   "cell_type": "markdown",
   "metadata": {},
   "source": [
    "## 4.2. Plot K-means Result"
   ]
  },
  {
   "cell_type": "code",
   "execution_count": 25,
   "metadata": {},
   "outputs": [],
   "source": [
    "pca = decomposition.PCA(n_components=2)\n",
    "tfidf_matrix_np=tfidf_matrix.toarray()\n",
    "pca.fit(tfidf_matrix_np)\n",
    "X = pca.transform(tfidf_matrix_np)\n",
    "\n",
    "xs, ys = X[:, 0], X[:, 1]\n",
    "\n",
    "#set up colors per clusters using a dict\n",
    "cluster_colors = {0: '#1b9e77', 1: '#d95f02', 2: '#7570b3', 3: '#e7298a', 4: '#66a61e'}\n",
    "#set up cluster names using a dict\n",
    "cluster_names = {}\n",
    "for i in range(num_clusters):\n",
    "    cluster_names[i] = \", \".join(Cluster_keywords_summary[i])"
   ]
  },
  {
   "cell_type": "code",
   "execution_count": 26,
   "metadata": {
    "scrolled": false
   },
   "outputs": [
    {
     "data": {
      "image/png": "[encoded data removed]",
      "text/plain": [
       "<Figure size 1152x648 with 1 Axes>"
      ]
     },
     "metadata": {},
     "output_type": "display_data"
    }
   ],
   "source": [
    "%matplotlib inline \n",
    "\n",
    "#create data frame with PCA cluster results\n",
    "df = pd.DataFrame(dict(x=xs, y=ys, label=clusters)) \n",
    "groups = df.groupby(clusters)\n",
    "\n",
    "# set up plot\n",
    "fig, ax = plt.subplots(figsize=(16, 9))\n",
    "#Set color for each cluster/group\n",
    "for name, group in groups:\n",
    "    ax.plot(group.x, group.y, marker='o', linestyle='', ms=12, \n",
    "            label=cluster_names[name], color=cluster_colors[name], \n",
    "            mec='none')\n",
    "\n",
    "ax.legend(numpoints=1,loc=4)  #show legend with only 1 point, position is right bottom.\n",
    "\n",
    "plt.show() #show the plot"
   ]
  },
  {
   "cell_type": "code",
   "execution_count": 27,
   "metadata": {},
   "outputs": [],
   "source": [
    "plt.close()"
   ]
  },
  {
   "cell_type": "markdown",
   "metadata": {},
   "source": [
    "# Part 5: Topic Modeling - Latent Dirichlet Allocation"
   ]
  },
  {
   "cell_type": "code",
   "execution_count": 28,
   "metadata": {},
   "outputs": [],
   "source": [
    "from sklearn.decomposition import LatentDirichletAllocation\n",
    "lda = LatentDirichletAllocation(n_components=5, learning_method = 'online')\n",
    "tfidf_matrix_lda = (tfidf_matrix * 100)\n",
    "tfidf_matrix_lda = tfidf_matrix_lda.astype(int)"
   ]
  },
  {
   "cell_type": "code",
   "execution_count": 29,
   "metadata": {},
   "outputs": [
    {
     "data": {
      "text/plain": [
       "LatentDirichletAllocation(batch_size=128, doc_topic_prior=None,\n",
       "             evaluate_every=-1, learning_decay=0.7,\n",
       "             learning_method='online', learning_offset=10.0,\n",
       "             max_doc_update_iter=100, max_iter=10, mean_change_tol=0.001,\n",
       "             n_components=5, n_jobs=1, n_topics=None, perp_tol=0.1,\n",
       "             random_state=None, topic_word_prior=None,\n",
       "             total_samples=1000000.0, verbose=0)"
      ]
     },
     "execution_count": 29,
     "metadata": {},
     "output_type": "execute_result"
    }
   ],
   "source": [
    "lda.fit(tfidf_matrix_lda)"
   ]
  },
  {
   "cell_type": "code",
   "execution_count": 30,
   "metadata": {},
   "outputs": [
    {
     "name": "stdout",
     "output_type": "stream",
     "text": [
      "(5L, 44L)\n"
     ]
    }
   ],
   "source": [
    "#5 group, 44 selected words\n",
    "topic_word = lda.components_\n",
    "print topic_word.shape"
   ]
  },
  {
   "cell_type": "code",
   "execution_count": 31,
   "metadata": {},
   "outputs": [],
   "source": [
    "n_top_words = 10\n",
    "topic_keywords_list = []\n",
    "for i, topic_dist in enumerate(topic_word):\n",
    "    #Here we select top(n_top_words-1)\n",
    "    lda_topic_words = np.array(tf_selected_words)[np.argsort(topic_dist)][:-n_top_words:-1] \n",
    "    for j in range(len(lda_topic_words)):\n",
    "        lda_topic_words[j] = vocab_frame_dict[lda_topic_words[j]]\n",
    "    topic_keywords_list.append(lda_topic_words.tolist())"
   ]
  },
  {
   "cell_type": "markdown",
   "metadata": {},
   "source": [
    "<li> \"model.topic_word_\" saves the importance of tf_selected_words in LDA model, i.e. words similarity matrix\n",
    "<li> The shape of \"model.topic_word_\" is (n_topics,num_of_selected_words)\n",
    "<li> \"model.doc_topic_\" saves the document topic results, i.e. document topic matrix.\n",
    "<li> The shape of \"model.doc_topic_\" is (num_of_documents, n_topics)"
   ]
  },
  {
   "cell_type": "code",
   "execution_count": 32,
   "metadata": {},
   "outputs": [
    {
     "name": "stdout",
     "output_type": "stream",
     "text": [
      "(3781L, 5L)\n"
     ]
    }
   ],
   "source": [
    "#3788 docs, and 5 topics\n",
    "doc_topic = lda.transform(tfidf_matrix_lda)\n",
    "print doc_topic.shape"
   ]
  },
  {
   "cell_type": "code",
   "execution_count": 33,
   "metadata": {},
   "outputs": [
    {
     "name": "stdout",
     "output_type": "stream",
     "text": [
      "Cluster 0 words: like, people, try, lot, shop, many, eat, baht, really\n",
      "Cluster 1 words: good, atmospher, food, restauran, shop, taste, friends, opening, fresh\n",
      "Cluster 2 words: pork, fried, sauce, rice, fish, shrimp, meat, soup, menu\n",
      "Cluster 3 words: eat, sweet, ordered, time, dishes, service, comes, drinks, want\n",
      "Cluster 4 words: delicious, price, food, expensive, know, little, menu, taste, recommend\n"
     ]
    }
   ],
   "source": [
    "for i in range(5):\n",
    "    print \"Cluster \" + str(i) + \" words: \" + \", \".join(topic_keywords_list[i])"
   ]
  },
  {
   "cell_type": "code",
   "execution_count": 34,
   "metadata": {},
   "outputs": [],
   "source": [
    "list=[i.argmax() for i in doc_topic]"
   ]
  },
  {
   "cell_type": "code",
   "execution_count": 35,
   "metadata": {},
   "outputs": [],
   "source": [
    "userReviews['LDA']=list"
   ]
  },
  {
   "cell_type": "code",
   "execution_count": 36,
   "metadata": {},
   "outputs": [
    {
     "data": {
      "text/html": [
       "<div>\n",
       "<style scoped>\n",
       "    .dataframe tbody tr th:only-of-type {\n",
       "        vertical-align: middle;\n",
       "    }\n",
       "\n",
       "    .dataframe tbody tr th {\n",
       "        vertical-align: top;\n",
       "    }\n",
       "\n",
       "    .dataframe thead th {\n",
       "        text-align: right;\n",
       "    }\n",
       "</style>\n",
       "<table border=\"1\" class=\"dataframe\">\n",
       "  <thead>\n",
       "    <tr style=\"text-align: right;\">\n",
       "      <th></th>\n",
       "      <th>0</th>\n",
       "      <th>1</th>\n",
       "      <th>2</th>\n",
       "      <th>K-Means</th>\n",
       "      <th>LDA</th>\n",
       "    </tr>\n",
       "  </thead>\n",
       "  <tbody>\n",
       "    <tr>\n",
       "      <th>0</th>\n",
       "      <td>116604</td>\n",
       "      <td>Delicious food</td>\n",
       "      <td>Delicious everything But not spicy. I do not k...</td>\n",
       "      <td>1</td>\n",
       "      <td>4</td>\n",
       "    </tr>\n",
       "    <tr>\n",
       "      <th>1</th>\n",
       "      <td>173513</td>\n",
       "      <td>Fair enough</td>\n",
       "      <td>Dumplings mixed to a bit. Overall taste satisf...</td>\n",
       "      <td>0</td>\n",
       "      <td>1</td>\n",
       "    </tr>\n",
       "    <tr>\n",
       "      <th>2</th>\n",
       "      <td>190149</td>\n",
       "      <td>Tasty treats But the price is high.</td>\n",
       "      <td>I will eat many then. The taste is fresh but t...</td>\n",
       "      <td>2</td>\n",
       "      <td>1</td>\n",
       "    </tr>\n",
       "    <tr>\n",
       "      <th>3</th>\n",
       "      <td>364779</td>\n",
       "      <td>Dim Sum is proud of Hat Yai.</td>\n",
       "      <td>Fly to Hat Yai. If you miss the scene of the S...</td>\n",
       "      <td>3</td>\n",
       "      <td>0</td>\n",
       "    </tr>\n",
       "    <tr>\n",
       "      <th>4</th>\n",
       "      <td>379746</td>\n",
       "      <td>The best soup is available!</td>\n",
       "      <td>Shabu here are 2 prices, the price of the shop...</td>\n",
       "      <td>3</td>\n",
       "      <td>2</td>\n",
       "    </tr>\n",
       "    <tr>\n",
       "      <th>5</th>\n",
       "      <td>640755</td>\n",
       "      <td>Fall in love from the first</td>\n",
       "      <td>Bear hug cafe &amp;#39;on the left hand. Chiang Ma...</td>\n",
       "      <td>2</td>\n",
       "      <td>3</td>\n",
       "    </tr>\n",
       "    <tr>\n",
       "      <th>6</th>\n",
       "      <td>677989</td>\n",
       "      <td>I need to know.</td>\n",
       "      <td>Spacious I do not know what to do. Medium oatm...</td>\n",
       "      <td>2</td>\n",
       "      <td>3</td>\n",
       "    </tr>\n",
       "    <tr>\n",
       "      <th>7</th>\n",
       "      <td>695236</td>\n",
       "      <td>Taste cheap.</td>\n",
       "      <td>Sushi is a very good word, the price is very g...</td>\n",
       "      <td>4</td>\n",
       "      <td>1</td>\n",
       "    </tr>\n",
       "    <tr>\n",
       "      <th>8</th>\n",
       "      <td>2</td>\n",
       "      <td>Have a nice Tea Break at &amp;quot;P eony&amp;quot; to...</td>\n",
       "      <td>Have a nice Tea Break at &amp;quot;P eony&amp;quot; to...</td>\n",
       "      <td>2</td>\n",
       "      <td>3</td>\n",
       "    </tr>\n",
       "    <tr>\n",
       "      <th>10</th>\n",
       "      <td>5</td>\n",
       "      <td>This is the first time that I&amp;#39;ve been on s...</td>\n",
       "      <td>I have to eat the first time on Saturday, beca...</td>\n",
       "      <td>3</td>\n",
       "      <td>2</td>\n",
       "    </tr>\n",
       "  </tbody>\n",
       "</table>\n",
       "</div>"
      ],
      "text/plain": [
       "         0                                                  1  \\\n",
       "0   116604                                     Delicious food   \n",
       "1   173513                                        Fair enough   \n",
       "2   190149                Tasty treats But the price is high.   \n",
       "3   364779                       Dim Sum is proud of Hat Yai.   \n",
       "4   379746                        The best soup is available!   \n",
       "5   640755                        Fall in love from the first   \n",
       "6   677989                                    I need to know.   \n",
       "7   695236                                       Taste cheap.   \n",
       "8        2  Have a nice Tea Break at &quot;P eony&quot; to...   \n",
       "10       5  This is the first time that I&#39;ve been on s...   \n",
       "\n",
       "                                                    2  K-Means  LDA  \n",
       "0   Delicious everything But not spicy. I do not k...        1    4  \n",
       "1   Dumplings mixed to a bit. Overall taste satisf...        0    1  \n",
       "2   I will eat many then. The taste is fresh but t...        2    1  \n",
       "3   Fly to Hat Yai. If you miss the scene of the S...        3    0  \n",
       "4   Shabu here are 2 prices, the price of the shop...        3    2  \n",
       "5   Bear hug cafe &#39;on the left hand. Chiang Ma...        2    3  \n",
       "6   Spacious I do not know what to do. Medium oatm...        2    3  \n",
       "7   Sushi is a very good word, the price is very g...        4    1  \n",
       "8   Have a nice Tea Break at &quot;P eony&quot; to...        2    3  \n",
       "10  I have to eat the first time on Saturday, beca...        3    2  "
      ]
     },
     "execution_count": 36,
     "metadata": {},
     "output_type": "execute_result"
    }
   ],
   "source": [
    "userReviews[0:10]"
   ]
  },
  {
   "cell_type": "markdown",
   "metadata": {},
   "source": [
    "# part6: Sentiment Analysis"
   ]
  },
  {
   "cell_type": "code",
   "execution_count": 37,
   "metadata": {},
   "outputs": [
    {
     "data": {
      "text/plain": [
       "(100, 100)"
      ]
     },
     "execution_count": 37,
     "metadata": {},
     "output_type": "execute_result"
    }
   ],
   "source": [
    "#load data from official doc\n",
    "from nltk.classify import NaiveBayesClassifier\n",
    "from nltk.corpus import subjectivity\n",
    "from nltk.sentiment import SentimentAnalyzer\n",
    "from nltk.sentiment.util import *\n",
    "n_instances = 100\n",
    "subj_docs = [(sent, 'subj') for sent in subjectivity.sents(categories='subj')[:n_instances]]\n",
    "obj_docs = [(sent, 'obj') for sent in subjectivity.sents(categories='obj')[:n_instances]]\n",
    "len(subj_docs), len(obj_docs)"
   ]
  },
  {
   "cell_type": "code",
   "execution_count": 38,
   "metadata": {},
   "outputs": [],
   "source": [
    "#mark negation\n",
    "train_subj_docs = subj_docs[:80]\n",
    "test_subj_docs = subj_docs[80:100]\n",
    "train_obj_docs = obj_docs[:80]\n",
    "test_obj_docs = obj_docs[80:100]\n",
    "training_docs = train_subj_docs+train_obj_docs\n",
    "testing_docs = test_subj_docs+test_obj_docs\n",
    "\n",
    "sentim_analyzer = SentimentAnalyzer()\n",
    "all_words_neg = sentim_analyzer.all_words([mark_negation(doc) for doc in training_docs])\n"
   ]
  },
  {
   "cell_type": "code",
   "execution_count": 39,
   "metadata": {},
   "outputs": [],
   "source": [
    "#unigram feats\n",
    "unigram_feats = sentim_analyzer.unigram_word_feats(all_words_neg, min_freq=4)\n",
    "sentim_analyzer.add_feat_extractor(extract_unigram_feats, unigrams=unigram_feats)\n",
    "\n"
   ]
  },
  {
   "cell_type": "code",
   "execution_count": 40,
   "metadata": {},
   "outputs": [
    {
     "data": {
      "text/plain": [
       "[u'.', u'the', u',', u'a', u'and', u'of', u'to', u'is', u'in', u'with']"
      ]
     },
     "execution_count": 40,
     "metadata": {},
     "output_type": "execute_result"
    }
   ],
   "source": [
    "unigram_feats[:10]"
   ]
  },
  {
   "cell_type": "code",
   "execution_count": 41,
   "metadata": {},
   "outputs": [
    {
     "name": "stdout",
     "output_type": "stream",
     "text": [
      "Training classifier\n",
      "Evaluating NaiveBayesClassifier results...\n"
     ]
    }
   ],
   "source": [
    "#train and test\n",
    "test_set = sentim_analyzer.apply_features(testing_docs)\n",
    "training_set = sentim_analyzer.apply_features(training_docs)\n",
    "\n",
    "trainer=NaiveBayesClassifier.train\n",
    "classifier=sentim_analyzer.train(trainer,training_set)\n",
    "\n",
    "results = sentim_analyzer.evaluate(test_set)\n",
    "\n",
    "#for key ,value in sorted(sentim_analyzer.evaluate(test_set).items()):\n",
    "#    print('{0}:{1}'.format(key,value))"
   ]
  },
  {
   "cell_type": "code",
   "execution_count": 42,
   "metadata": {},
   "outputs": [],
   "source": [
    "from nltk.sentiment.vader import SentimentIntensityAnalyzer\n",
    "sid = SentimentIntensityAnalyzer()\n",
    "neg,neu,pos,compound=[],[],[],[]\n",
    "for sentence in userReviews[2]:\n",
    "    ss = sid.polarity_scores(str(sentence))\n",
    "    neg.append(ss['neg'])\n",
    "    neu.append(ss['neu'])\n",
    "    pos.append(ss['pos'])\n",
    "    compound.append(ss['compound'])\n",
    "    #print(\"{:-<40} {}\".format(sentence, str(ss)))\n",
    "    #print()"
   ]
  },
  {
   "cell_type": "code",
   "execution_count": 43,
   "metadata": {},
   "outputs": [
    {
     "data": {
      "text/plain": [
       "[0.0, 0.148, 0.078, 0.045, 0.013, 0.023, 0.058, 0.0, 0.013, 0.032]"
      ]
     },
     "execution_count": 43,
     "metadata": {},
     "output_type": "execute_result"
    }
   ],
   "source": [
    "neg[0:10]"
   ]
  },
  {
   "cell_type": "code",
   "execution_count": 44,
   "metadata": {},
   "outputs": [],
   "source": [
    "userReviews['neg']=neg\n",
    "userReviews['neu']=neu\n",
    "userReviews['pos']=pos\n",
    "userReviews['compound']=compound"
   ]
  },
  {
   "cell_type": "code",
   "execution_count": 45,
   "metadata": {},
   "outputs": [
    {
     "data": {
      "text/html": [
       "<div>\n",
       "<style scoped>\n",
       "    .dataframe tbody tr th:only-of-type {\n",
       "        vertical-align: middle;\n",
       "    }\n",
       "\n",
       "    .dataframe tbody tr th {\n",
       "        vertical-align: top;\n",
       "    }\n",
       "\n",
       "    .dataframe thead th {\n",
       "        text-align: right;\n",
       "    }\n",
       "</style>\n",
       "<table border=\"1\" class=\"dataframe\">\n",
       "  <thead>\n",
       "    <tr style=\"text-align: right;\">\n",
       "      <th></th>\n",
       "      <th>0</th>\n",
       "      <th>1</th>\n",
       "      <th>2</th>\n",
       "      <th>K-Means</th>\n",
       "      <th>LDA</th>\n",
       "      <th>neg</th>\n",
       "      <th>neu</th>\n",
       "      <th>pos</th>\n",
       "      <th>compound</th>\n",
       "    </tr>\n",
       "  </thead>\n",
       "  <tbody>\n",
       "    <tr>\n",
       "      <th>4989</th>\n",
       "      <td>164855</td>\n",
       "      <td>The food is delicious and sweet.</td>\n",
       "      <td>The restaurant is delicious food with fish and...</td>\n",
       "      <td>2</td>\n",
       "      <td>1</td>\n",
       "      <td>0.108</td>\n",
       "      <td>0.669</td>\n",
       "      <td>0.223</td>\n",
       "      <td>0.4753</td>\n",
       "    </tr>\n",
       "    <tr>\n",
       "      <th>4990</th>\n",
       "      <td>164859</td>\n",
       "      <td>Not delicious</td>\n",
       "      <td>brownie is not good at all, but 20 baht is goo...</td>\n",
       "      <td>3</td>\n",
       "      <td>2</td>\n",
       "      <td>0.166</td>\n",
       "      <td>0.706</td>\n",
       "      <td>0.128</td>\n",
       "      <td>-0.3658</td>\n",
       "    </tr>\n",
       "    <tr>\n",
       "      <th>4991</th>\n",
       "      <td>164872</td>\n",
       "      <td>Atmosphere available wifi, but not impressed.</td>\n",
       "      <td>The atmosphere is available wifi, but the coff...</td>\n",
       "      <td>0</td>\n",
       "      <td>3</td>\n",
       "      <td>0.000</td>\n",
       "      <td>1.000</td>\n",
       "      <td>0.000</td>\n",
       "      <td>0.0000</td>\n",
       "    </tr>\n",
       "    <tr>\n",
       "      <th>4992</th>\n",
       "      <td>164882</td>\n",
       "      <td># 1 of delicious tasting fire !!!!!</td>\n",
       "      <td>I&amp;#39;ve been eating a lot of food lately. I&amp;#...</td>\n",
       "      <td>0</td>\n",
       "      <td>4</td>\n",
       "      <td>0.042</td>\n",
       "      <td>0.844</td>\n",
       "      <td>0.114</td>\n",
       "      <td>0.4514</td>\n",
       "    </tr>\n",
       "    <tr>\n",
       "      <th>4993</th>\n",
       "      <td>164891</td>\n",
       "      <td>The seafood sauce really cool.</td>\n",
       "      <td>Sea Food Seafood ... delicious flavor of the r...</td>\n",
       "      <td>3</td>\n",
       "      <td>2</td>\n",
       "      <td>0.000</td>\n",
       "      <td>0.704</td>\n",
       "      <td>0.296</td>\n",
       "      <td>0.8955</td>\n",
       "    </tr>\n",
       "    <tr>\n",
       "      <th>4995</th>\n",
       "      <td>164906</td>\n",
       "      <td>Good atmosphere</td>\n",
       "      <td>Who likes the cozy waterfront? Have a good mea...</td>\n",
       "      <td>4</td>\n",
       "      <td>0</td>\n",
       "      <td>0.000</td>\n",
       "      <td>0.492</td>\n",
       "      <td>0.508</td>\n",
       "      <td>0.8049</td>\n",
       "    </tr>\n",
       "    <tr>\n",
       "      <th>4996</th>\n",
       "      <td>164912</td>\n",
       "      <td>Delicious cake, soft tongue Good atmosphere</td>\n",
       "      <td>I like this cake, I like it very delicious cak...</td>\n",
       "      <td>2</td>\n",
       "      <td>0</td>\n",
       "      <td>0.000</td>\n",
       "      <td>0.400</td>\n",
       "      <td>0.600</td>\n",
       "      <td>0.8399</td>\n",
       "    </tr>\n",
       "    <tr>\n",
       "      <th>4997</th>\n",
       "      <td>164913</td>\n",
       "      <td>Sausage, pork leg weissbier and yogurt</td>\n",
       "      <td>Bei Otto is a traditional German restaurant. A...</td>\n",
       "      <td>3</td>\n",
       "      <td>2</td>\n",
       "      <td>0.000</td>\n",
       "      <td>0.877</td>\n",
       "      <td>0.123</td>\n",
       "      <td>0.9751</td>\n",
       "    </tr>\n",
       "    <tr>\n",
       "      <th>4998</th>\n",
       "      <td>164915</td>\n",
       "      <td>Delicious but very much in the daytime. It is ...</td>\n",
       "      <td>Roasted chicken baked eggs hot pan.</td>\n",
       "      <td>0</td>\n",
       "      <td>0</td>\n",
       "      <td>0.000</td>\n",
       "      <td>1.000</td>\n",
       "      <td>0.000</td>\n",
       "      <td>0.0000</td>\n",
       "    </tr>\n",
       "    <tr>\n",
       "      <th>4999</th>\n",
       "      <td>164928</td>\n",
       "      <td>Fast service, delicious food full of words.</td>\n",
       "      <td>Today, there are 789 Baht per set, Sweetie Bul...</td>\n",
       "      <td>4</td>\n",
       "      <td>0</td>\n",
       "      <td>0.081</td>\n",
       "      <td>0.747</td>\n",
       "      <td>0.172</td>\n",
       "      <td>0.6985</td>\n",
       "    </tr>\n",
       "  </tbody>\n",
       "</table>\n",
       "</div>"
      ],
      "text/plain": [
       "           0                                                  1  \\\n",
       "4989  164855                   The food is delicious and sweet.   \n",
       "4990  164859                                      Not delicious   \n",
       "4991  164872      Atmosphere available wifi, but not impressed.   \n",
       "4992  164882                # 1 of delicious tasting fire !!!!!   \n",
       "4993  164891                     The seafood sauce really cool.   \n",
       "4995  164906                                    Good atmosphere   \n",
       "4996  164912        Delicious cake, soft tongue Good atmosphere   \n",
       "4997  164913             Sausage, pork leg weissbier and yogurt   \n",
       "4998  164915  Delicious but very much in the daytime. It is ...   \n",
       "4999  164928        Fast service, delicious food full of words.   \n",
       "\n",
       "                                                      2  K-Means  LDA    neg  \\\n",
       "4989  The restaurant is delicious food with fish and...        2    1  0.108   \n",
       "4990  brownie is not good at all, but 20 baht is goo...        3    2  0.166   \n",
       "4991  The atmosphere is available wifi, but the coff...        0    3  0.000   \n",
       "4992  I&#39;ve been eating a lot of food lately. I&#...        0    4  0.042   \n",
       "4993  Sea Food Seafood ... delicious flavor of the r...        3    2  0.000   \n",
       "4995  Who likes the cozy waterfront? Have a good mea...        4    0  0.000   \n",
       "4996  I like this cake, I like it very delicious cak...        2    0  0.000   \n",
       "4997  Bei Otto is a traditional German restaurant. A...        3    2  0.000   \n",
       "4998                Roasted chicken baked eggs hot pan.        0    0  0.000   \n",
       "4999  Today, there are 789 Baht per set, Sweetie Bul...        4    0  0.081   \n",
       "\n",
       "        neu    pos  compound  \n",
       "4989  0.669  0.223    0.4753  \n",
       "4990  0.706  0.128   -0.3658  \n",
       "4991  1.000  0.000    0.0000  \n",
       "4992  0.844  0.114    0.4514  \n",
       "4993  0.704  0.296    0.8955  \n",
       "4995  0.492  0.508    0.8049  \n",
       "4996  0.400  0.600    0.8399  \n",
       "4997  0.877  0.123    0.9751  \n",
       "4998  1.000  0.000    0.0000  \n",
       "4999  0.747  0.172    0.6985  "
      ]
     },
     "execution_count": 45,
     "metadata": {},
     "output_type": "execute_result"
    }
   ],
   "source": [
    "userReviews[-10:]"
   ]
  },
  {
   "cell_type": "markdown",
   "metadata": {},
   "source": [
    "# Part 7: Comparison between K-Means and LDA"
   ]
  },
  {
   "cell_type": "code",
   "execution_count": 46,
   "metadata": {},
   "outputs": [
    {
     "data": {
      "text/html": [
       "<div>\n",
       "<style scoped>\n",
       "    .dataframe tbody tr th:only-of-type {\n",
       "        vertical-align: middle;\n",
       "    }\n",
       "\n",
       "    .dataframe tbody tr th {\n",
       "        vertical-align: top;\n",
       "    }\n",
       "\n",
       "    .dataframe thead th {\n",
       "        text-align: right;\n",
       "    }\n",
       "</style>\n",
       "<table border=\"1\" class=\"dataframe\">\n",
       "  <thead>\n",
       "    <tr style=\"text-align: right;\">\n",
       "      <th></th>\n",
       "      <th>K-Means</th>\n",
       "      <th>neg</th>\n",
       "      <th>neu</th>\n",
       "      <th>pos</th>\n",
       "      <th>compound</th>\n",
       "    </tr>\n",
       "  </thead>\n",
       "  <tbody>\n",
       "    <tr>\n",
       "      <th>0</th>\n",
       "      <td>0</td>\n",
       "      <td>0.033910</td>\n",
       "      <td>0.813731</td>\n",
       "      <td>0.152363</td>\n",
       "      <td>0.341674</td>\n",
       "    </tr>\n",
       "    <tr>\n",
       "      <th>1</th>\n",
       "      <td>1</td>\n",
       "      <td>0.027293</td>\n",
       "      <td>0.580712</td>\n",
       "      <td>0.392005</td>\n",
       "      <td>0.684361</td>\n",
       "    </tr>\n",
       "    <tr>\n",
       "      <th>2</th>\n",
       "      <td>2</td>\n",
       "      <td>0.031888</td>\n",
       "      <td>0.789949</td>\n",
       "      <td>0.178175</td>\n",
       "      <td>0.704889</td>\n",
       "    </tr>\n",
       "    <tr>\n",
       "      <th>3</th>\n",
       "      <td>3</td>\n",
       "      <td>0.028447</td>\n",
       "      <td>0.818427</td>\n",
       "      <td>0.153127</td>\n",
       "      <td>0.716029</td>\n",
       "    </tr>\n",
       "    <tr>\n",
       "      <th>4</th>\n",
       "      <td>4</td>\n",
       "      <td>0.037700</td>\n",
       "      <td>0.644782</td>\n",
       "      <td>0.317504</td>\n",
       "      <td>0.615088</td>\n",
       "    </tr>\n",
       "  </tbody>\n",
       "</table>\n",
       "</div>"
      ],
      "text/plain": [
       "   K-Means       neg       neu       pos  compound\n",
       "0        0  0.033910  0.813731  0.152363  0.341674\n",
       "1        1  0.027293  0.580712  0.392005  0.684361\n",
       "2        2  0.031888  0.789949  0.178175  0.704889\n",
       "3        3  0.028447  0.818427  0.153127  0.716029\n",
       "4        4  0.037700  0.644782  0.317504  0.615088"
      ]
     },
     "execution_count": 46,
     "metadata": {},
     "output_type": "execute_result"
    }
   ],
   "source": [
    "#sentiment Analysis in terms of K-means group\n",
    "userReviews.groupby('K-Means', as_index=False)['neg','neu','pos','compound'].mean()"
   ]
  },
  {
   "cell_type": "code",
   "execution_count": 47,
   "metadata": {},
   "outputs": [
    {
     "data": {
      "text/html": [
       "<div>\n",
       "<style scoped>\n",
       "    .dataframe tbody tr th:only-of-type {\n",
       "        vertical-align: middle;\n",
       "    }\n",
       "\n",
       "    .dataframe tbody tr th {\n",
       "        vertical-align: top;\n",
       "    }\n",
       "\n",
       "    .dataframe thead th {\n",
       "        text-align: right;\n",
       "    }\n",
       "</style>\n",
       "<table border=\"1\" class=\"dataframe\">\n",
       "  <thead>\n",
       "    <tr style=\"text-align: right;\">\n",
       "      <th></th>\n",
       "      <th>LDA</th>\n",
       "      <th>neg</th>\n",
       "      <th>neu</th>\n",
       "      <th>pos</th>\n",
       "      <th>compound</th>\n",
       "    </tr>\n",
       "  </thead>\n",
       "  <tbody>\n",
       "    <tr>\n",
       "      <th>0</th>\n",
       "      <td>0</td>\n",
       "      <td>0.032165</td>\n",
       "      <td>0.791822</td>\n",
       "      <td>0.176006</td>\n",
       "      <td>0.584372</td>\n",
       "    </tr>\n",
       "    <tr>\n",
       "      <th>1</th>\n",
       "      <td>1</td>\n",
       "      <td>0.030339</td>\n",
       "      <td>0.696414</td>\n",
       "      <td>0.273243</td>\n",
       "      <td>0.629508</td>\n",
       "    </tr>\n",
       "    <tr>\n",
       "      <th>2</th>\n",
       "      <td>2</td>\n",
       "      <td>0.027466</td>\n",
       "      <td>0.806346</td>\n",
       "      <td>0.166194</td>\n",
       "      <td>0.674285</td>\n",
       "    </tr>\n",
       "    <tr>\n",
       "      <th>3</th>\n",
       "      <td>3</td>\n",
       "      <td>0.035897</td>\n",
       "      <td>0.784918</td>\n",
       "      <td>0.179201</td>\n",
       "      <td>0.600444</td>\n",
       "    </tr>\n",
       "    <tr>\n",
       "      <th>4</th>\n",
       "      <td>4</td>\n",
       "      <td>0.035599</td>\n",
       "      <td>0.682156</td>\n",
       "      <td>0.282259</td>\n",
       "      <td>0.508571</td>\n",
       "    </tr>\n",
       "  </tbody>\n",
       "</table>\n",
       "</div>"
      ],
      "text/plain": [
       "   LDA       neg       neu       pos  compound\n",
       "0    0  0.032165  0.791822  0.176006  0.584372\n",
       "1    1  0.030339  0.696414  0.273243  0.629508\n",
       "2    2  0.027466  0.806346  0.166194  0.674285\n",
       "3    3  0.035897  0.784918  0.179201  0.600444\n",
       "4    4  0.035599  0.682156  0.282259  0.508571"
      ]
     },
     "execution_count": 47,
     "metadata": {},
     "output_type": "execute_result"
    }
   ],
   "source": [
    "#sentiment Analysis in terms of LDA\n",
    "userReviews.groupby('LDA',as_index=False)['neg','neu','pos','compound'].mean()"
   ]
  },
  {
   "cell_type": "markdown",
   "metadata": {
    "collapsed": true
   },
   "source": [
    "# Appendix: K-means"
   ]
  },
  {
   "cell_type": "code",
   "execution_count": 48,
   "metadata": {},
   "outputs": [
    {
     "data": {
      "image/png": "[encoded data removed]",
      "text/plain": [
       "<Figure size 432x288 with 1 Axes>"
      ]
     },
     "metadata": {},
     "output_type": "display_data"
    }
   ],
   "source": [
    "from sklearn.datasets.samples_generator import make_blobs\n",
    "X, y = make_blobs(n_samples=300, centers=4,\n",
    "                  random_state=0, cluster_std=0.60)\n",
    "plt.scatter(X[:, 0], X[:, 1], s=50);"
   ]
  },
  {
   "cell_type": "code",
   "execution_count": 49,
   "metadata": {},
   "outputs": [
    {
     "data": {
      "image/png": "[encoded data removed]",
      "text/plain": [
       "<Figure size 432x288 with 1 Axes>"
      ]
     },
     "metadata": {},
     "output_type": "display_data"
    }
   ],
   "source": [
    "from sklearn.cluster import KMeans\n",
    "est = KMeans(4)  # 4 clusters\n",
    "est.fit(X)\n",
    "y_kmeans = est.predict(X)\n",
    "plt.scatter(X[:, 0], X[:, 1], c=y_kmeans, s=50);"
   ]
  }
 ],
 "metadata": {
  "kernelspec": {
   "display_name": "Python 2",
   "language": "python",
   "name": "python2"
  },
  "language_info": {
   "codemirror_mode": {
    "name": "ipython",
    "version": 2
   },
   "file_extension": ".py",
   "mimetype": "text/x-python",
   "name": "python",
   "nbconvert_exporter": "python",
   "pygments_lexer": "ipython2",
   "version": "2.7.15"
  }
 },
 "nbformat": 4,
 "nbformat_minor": 1
}
